{
 "cells": [
  {
   "cell_type": "markdown",
   "id": "a4c60f16-851e-45a0-ba45-7f3671108e12",
   "metadata": {},
   "source": [
    "# Data Science Tools and Ecosystem"
   ]
  },
  {
   "cell_type": "markdown",
   "id": "1b321bf2-50e2-49c2-894f-6db1ca97f52b",
   "metadata": {},
   "source": [
    "In this notebook as evaluation, Data Science Tools and Ecosystem are summarized."
   ]
  },
  {
   "cell_type": "markdown",
   "id": "4df66fd9-205d-4c5a-9bf8-9a7de87f0635",
   "metadata": {},
   "source": [
    "**Objectives:** \n",
    "- Describe the components of a Data Scientist's toolkit and list various tool categories.\n",
    "- List examples of open-source tools used in data science.\n",
    "- Describe the relevant features of open-source tools.\n",
    "- List examples of commercial and cloud-based data science tools"
   ]
  },
  {
   "cell_type": "markdown",
   "id": "50ddf7a5-8d33-45bd-b110-06de7b9eee05",
   "metadata": {},
   "source": [
    "Some of the popular languages that Data Scientists use are:\n",
    "<ol>\n",
    "<li>Python</li>\n",
    "<li>R</li>\n",
    "<li>C/C++</li>\n",
    "</ol>"
   ]
  },
  {
   "cell_type": "markdown",
   "id": "dc94e17f-ae3a-48b8-896b-ecf6b71a4874",
   "metadata": {},
   "source": [
    "Some of the commonly used libraries used by Data Scientists include:\n",
    "<ol>\n",
    "<li> Pandas\n",
    "<li> ggplot\n",
    "<li> Matplotlib\n",
    "<li> Caret    \n",
    "<ol>    "
   ]
  },
  {
   "cell_type": "markdown",
   "id": "b52413ff-3bdc-4737-a2ba-284327202b35",
   "metadata": {},
   "source": [
    "| Data Science Tools |\n",
    "|--------------------|\n",
    "|Jupyter Lab |\n",
    "|R Studio |\n",
    "|Watson Studio |"
   ]
  },
  {
   "cell_type": "markdown",
   "id": "a3d63dd4-5044-4d5c-897c-01a1a44659f2",
   "metadata": {},
   "source": [
    "### Below are a few examples of evaluating arithmetic expressions in Python"
   ]
  },
  {
   "cell_type": "markdown",
   "id": "c76cfcf3-69f9-4408-9d30-c7fb3a138efa",
   "metadata": {},
   "source": [
    "This a simple arithmetic expression to mutiply then add integers"
   ]
  },
  {
   "cell_type": "code",
   "execution_count": 1,
   "id": "554c4422-9ff9-4106-acbf-9c06687dd462",
   "metadata": {
    "tags": []
   },
   "outputs": [
    {
     "data": {
      "text/plain": [
       "17"
      ]
     },
     "execution_count": 1,
     "metadata": {},
     "output_type": "execute_result"
    }
   ],
   "source": [
    "(3*4)+5"
   ]
  },
  {
   "cell_type": "markdown",
   "id": "877d2df0-71f2-4727-8edb-bddf325d986b",
   "metadata": {
    "tags": []
   },
   "source": [
    "This will convert 200 minutes to hours by dividing by 60"
   ]
  },
  {
   "cell_type": "code",
   "execution_count": 3,
   "id": "17b9a6c7-3481-4745-a86c-71765f0cfe25",
   "metadata": {
    "tags": []
   },
   "outputs": [
    {
     "data": {
      "text/plain": [
       "3.3333333333333335"
      ]
     },
     "execution_count": 3,
     "metadata": {},
     "output_type": "execute_result"
    }
   ],
   "source": [
    "200/60"
   ]
  },
  {
   "cell_type": "markdown",
   "id": "9f64e48e-b580-4552-bf32-ed5141a985f1",
   "metadata": {},
   "source": [
    "## Author\n",
    "Jorge Ríos Martínez"
   ]
  }
 ],
 "metadata": {
  "kernelspec": {
   "display_name": "Python",
   "language": "python",
   "name": "conda-env-python-py"
  },
  "language_info": {
   "codemirror_mode": {
    "name": "ipython",
    "version": 3
   },
   "file_extension": ".py",
   "mimetype": "text/x-python",
   "name": "python",
   "nbconvert_exporter": "python",
   "pygments_lexer": "ipython3",
   "version": "3.7.12"
  }
 },
 "nbformat": 4,
 "nbformat_minor": 5
}
